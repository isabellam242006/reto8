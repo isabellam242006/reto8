{
  "nbformat": 4,
  "nbformat_minor": 0,
  "metadata": {
    "colab": {
      "provenance": [],
      "authorship_tag": "ABX9TyO7f+zMTs91IKNyaDFCTptK",
      "include_colab_link": true
    },
    "kernelspec": {
      "name": "python3",
      "display_name": "Python 3"
    },
    "language_info": {
      "name": "python"
    }
  },
  "cells": [
    {
      "cell_type": "markdown",
      "metadata": {
        "id": "view-in-github",
        "colab_type": "text"
      },
      "source": [
        "<a href=\"https://colab.research.google.com/github/isabellam242006/reto8/blob/main/reto8.ipynb\" target=\"_parent\"><img src=\"https://colab.research.google.com/assets/colab-badge.svg\" alt=\"Open In Colab\"/></a>"
      ]
    },
    {
      "cell_type": "markdown",
      "source": [
        "#Reto 8\n"
      ],
      "metadata": {
        "id": "081xlDva8_M8"
      }
    },
    {
      "cell_type": "markdown",
      "source": [
        "1. Imprimir un listado con los números del 1 al 100 cada uno con su respectivo cuadrado.\n",
        "\n",
        "*Para este punto utilicé la función ```for i in range``` con el objetivo de escanear cada número dentro del rango de 1 a 100. Luego imprimo todos estos números y sus respectivos cuadrados separados por comas*\n"
      ],
      "metadata": {
        "id": "PKJiUiZS9G35"
      }
    },
    {
      "cell_type": "code",
      "source": [
        "for i in range(1,101):\n",
        "  print(i, i**2, sep=\",\")"
      ],
      "metadata": {
        "id": "TSGoSM_AoODV"
      },
      "execution_count": null,
      "outputs": []
    },
    {
      "cell_type": "markdown",
      "source": [
        "2. Imprimir un listado con los números impares desde 1 hasta 999 y seguidamente otro listado con los números pares desde 2 hasta 1000.\n",
        "\n",
        "*Para este punto realicé algo muy similar a lo anterior, solo que esta vez añadí que se escaneran los números de dos en dos con el fin de que solo mostrara los números pares. Además el primer rango va desde 1 a 999 y el segundo desde 2 hasta 1000.*"
      ],
      "metadata": {
        "id": "VRUkfuvq9Qoh"
      }
    },
    {
      "cell_type": "code",
      "source": [
        "for i in range(1,1000,2):\n",
        "  print(i)\n",
        "\n",
        "for i in range(2,1001,2):\n",
        "  print(i)\n"
      ],
      "metadata": {
        "id": "P15-nfE9o6EH"
      },
      "execution_count": null,
      "outputs": []
    },
    {
      "cell_type": "markdown",
      "source": [
        "3. Imprimir los números pares en forma descendente hasta 2 que son menores o iguales a un número natural n ≥ 2 dado\n",
        "\n",
        "*Para este punto se añadió un ```for i in range``` de la siguiente forma: Inicia desde la i ingresada hasta 1 y desciende de a uno en uno(Por eso el -1) Además se añadió la condición de que solo mostrara los números que al dividir por 2 su residuo es 0, es decir que son pares.*\n"
      ],
      "metadata": {
        "id": "d-Ri4C_m9xo_"
      }
    },
    {
      "cell_type": "code",
      "source": [
        "i = int(input(\"ingrese un número mayor o igual que 2: \"))\n",
        "for i in range(i,1,-1):\n",
        "  if i%2==0:\n",
        "    print(i)\n",
        "\n",
        "\n",
        "\n",
        "\n"
      ],
      "metadata": {
        "id": "lofecuJtqrdd"
      },
      "execution_count": null,
      "outputs": []
    },
    {
      "cell_type": "markdown",
      "source": [
        "4. Imprimir los números de 1 hasta un número natural n dado, cada uno con su respectivo factorial\n",
        "\n",
        "*Se crean dos rangos, uno para escanear todos los números hasta el número dado y otro para calcular el factorial de dichos números. En este caso p es el número escaneado, factorial es la multiplicación consecutiva de todos los números desde 1 hasta ese número dado, y así con todos los p en ese rango). En resumen se utilizó ```for in range``` de forma anidada*"
      ],
      "metadata": {
        "id": "U3ix5iQp91Qv"
      }
    },
    {
      "cell_type": "code",
      "source": [
        "n = int(input(\"Ingrese un número natural: \"))\n",
        "for i in range(1, n + 1):\n",
        "  factorial = 1\n",
        "  for p in range(1, i + 1):\n",
        "    factorial *= p\n",
        "  print(p,factorial,sep=\",\")\n"
      ],
      "metadata": {
        "id": "qNJz3vzdvCvR"
      },
      "execution_count": null,
      "outputs": []
    },
    {
      "cell_type": "markdown",
      "source": [
        "5. Calcular el valor de 2 elevado a la potencia n usando ciclos for.\n",
        "\n",
        "*Para este punto se estableció un rango desde 1 hasta una potencia dada y luego se hizo una multiplicación consecutiva de 2 hasta completar dicho rango*\n",
        "\n"
      ],
      "metadata": {
        "id": "IT-TZMlS94l4"
      }
    },
    {
      "cell_type": "code",
      "source": [
        "n:int(input(\"Ingrese un número: \"))\n",
        "\n",
        "for i in range(0, n):\n",
        "  potencia= 2**i\n",
        "  n+=1\n",
        "\n",
        "print(potencia)\n"
      ],
      "metadata": {
        "id": "NkCjOjr0Nqy5"
      },
      "execution_count": null,
      "outputs": []
    },
    {
      "cell_type": "markdown",
      "source": [
        "6. Leer un número natural n, leer otro dato de tipo real x y calcular x^n usando ciclos for. Disclaimer: Trate de no utilizar el operador de potencia (**)\n",
        "\n",
        "*Para este punto se hizo algo similar que el anterior, solo que en este caso se estableció potencia como uno y esta se multiplicará por x consecutivamente hasta llegar a un número n dado*"
      ],
      "metadata": {
        "id": "_ljsJXCT-GJG"
      }
    },
    {
      "cell_type": "code",
      "source": [
        "x = int(input(\"Ingrese un número: \"))\n",
        "n = int(input(\"Ingrese el número de la potencia: \"))\n",
        "potencia = 1\n",
        "\n",
        "for i in range(n):\n",
        "  potencia *=x\n",
        "\n",
        "print(str(x) + \" elevado a la potencia de \" + str(n) + \" es \" + str(potencia))"
      ],
      "metadata": {
        "id": "vqZQkPN3ljXb"
      },
      "execution_count": null,
      "outputs": []
    },
    {
      "cell_type": "markdown",
      "source": [
        "7. Diseñe un programa que muestre las tablas de multiplicar del 1 al 9\n",
        "\n",
        "*Para este punto se establecieron dos rangos. Para hacer las tablas de 1 hasta 9, se multiplica cada valor del primer rango con el del segundo*"
      ],
      "metadata": {
        "id": "tYJXxoAl-QA_"
      }
    },
    {
      "cell_type": "code",
      "source": [
        "for i in range(1, 10):\n",
        "  print(\"La tabla del \" + str(i) + \" es: \\n\")\n",
        "  for n in range(1, 11):\n",
        "    multiplicacion = i * n\n",
        "    print(str(i) + \" X \" + str(n) + \" = \" + str(multiplicacion) + \"\\n\")\n",
        "\n",
        "\n",
        "\n",
        "\n",
        "\n"
      ],
      "metadata": {
        "id": "GgIzsu0UwKwC"
      },
      "execution_count": null,
      "outputs": []
    },
    {
      "cell_type": "markdown",
      "source": [
        "*Para los siguientes puntos se usó una estructura similar:*\n",
        "\n",
        "- Primero se definió la función factorial en los puntos en los que se requirió\n",
        "- Luego se definió la función para calcular el valor aproximado, en esta se establece un rango desde 1 hasta n, sabemos que n es en realidad el número de términos (Es decir el número de veces que queremos que se aplique la fórmula) Para este tipo de series entre más términos se utilicen, más cerca al valor real se está llegando.\n",
        "- Luego de esto se declaran las variables\n",
        "- Por último se realiza un bucle ```while``` para comparar los resultados del valor aproximado y el valor real(Calculandolo con las funciones arctan, sin y exp). En este bucle se inicia con el valor n=0 se va iterando hasta que se llegue a una diferencia muy mínima entre ambos valores (Un margen de error menor a 0.1%) Luego se cierra el bucle con un ```break``` y se imprimen los resultados.\n",
        "\n",
        "8. Diseñar una función que permita calcular una aproximación de la función exponencial alrededor de 0 para cualquier valor x (real), utilizando los primeros n términos de la serie de Maclaurin. Nota: use math para traer la función exponencial y mostrar la diferencia entre el valor real y la aproximación\n"
      ],
      "metadata": {
        "id": "Fu0SFNs0-ZKm"
      }
    },
    {
      "cell_type": "code",
      "source": [
        "import math\n",
        "\n",
        "def factorial(i):\n",
        "  factorial = 1\n",
        "  while i >1:\n",
        "    factorial*=i\n",
        "    i-=1\n",
        "  return factorial\n",
        "\n",
        "def calcular_exponencial(x,n):\n",
        "  exponencial=0\n",
        "  for i in range (n+1):\n",
        "    exponencial+=(x**i)/factorial(i)\n",
        "  return exponencial\n",
        "\n",
        "if __name__ == \"__main__\":\n",
        "  x = float(input(\"Ingrese número real para x: \"))\n",
        "  n = 1\n",
        "\n",
        "while True:\n",
        "  exponencial = calcular_exponencial(x,n)\n",
        "  margen_error = abs((math.exp(x) - exponencial) / (math.exp(x))) * 100\n",
        "  n += 1\n",
        "  if margen_error < 0.1:\n",
        "    print(\"El valor de n debe ser \" + str(n) + \" para obtener un margen de error menor al 0.1%\")\n",
        "    break\n",
        "\n",
        "print(\"El valor aproximado es \" + str(exponencial))\n",
        "print(\"El valor real es \" + str(math.exp(x)))\n",
        "print(\"El margen de error es de \" + str(margen_error))\n",
        "\n",
        "\n",
        "\n",
        "\n",
        "\n"
      ],
      "metadata": {
        "id": "Zwf-R8LKwflk"
      },
      "execution_count": null,
      "outputs": []
    },
    {
      "cell_type": "markdown",
      "source": [
        "9. Diseñar una función que permita calcular una aproximación de la función seno alrededor de 0 para cualquier valor x (real), utilizando los primeros n términos de la serie de Maclaurin. Nota: use math para traer la función seno y mostrar la diferencia entre el valor real y la aproximación."
      ],
      "metadata": {
        "id": "Rk8kIlY8-g5d"
      }
    },
    {
      "cell_type": "code",
      "source": [
        "import math\n",
        "\n",
        "def factorial(i):\n",
        "  factorial = 1\n",
        "  while i >1:\n",
        "    factorial*=i\n",
        "    i-=1\n",
        "  return factorial\n",
        "\n",
        "def calcular_sin(x,n):\n",
        "  sin=0\n",
        "  for i in range (n+1):\n",
        "    sin+= ((-1) ** i)*((x ** (2 * i + 1)) / factorial(2 * i + 1))\n",
        "  return sin\n",
        "\n",
        "if __name__ == \"__main__\":\n",
        "  x = float(input(\"Ingrese número real para x: \"))\n",
        "  n = 1\n",
        "\n",
        "while True:\n",
        "  sin = calcular_sin(x,n)\n",
        "  margen_error = abs((math.sin(x) - sin) / (math.sin(x))) * 100\n",
        "  n += 1\n",
        "  if margen_error < 0.1:\n",
        "    print(\"El valor de n debe ser \" + str(n) + \" para obtener un margen de error menor al 0.1%\")\n",
        "    break\n",
        "\n",
        "print(\"El valor aproximado es \" + str(sin))\n",
        "print(\"El valor real es \" + str(math.sin(x)))\n",
        "print(\"El margen de error es de \" + str(margen_error))\n"
      ],
      "metadata": {
        "id": "l6LXCOugXCa5"
      },
      "execution_count": null,
      "outputs": []
    },
    {
      "cell_type": "markdown",
      "source": [
        "10. Diseñar una función que permita calcular una aproximación de la función arcotangente alrededor de 0 para cualquier valor x en el rango [-1, 1], utilizando los primeros n términos de la serie de Maclaurin. Nota: use math para traer la función arctan y mostrar la diferencia entre el valor real y la aproximación."
      ],
      "metadata": {
        "id": "7tMmU8KG-kpl"
      }
    },
    {
      "cell_type": "code",
      "source": [
        "import numpy\n",
        "\n",
        "def calcular_arctan(x,n):\n",
        "  arctan = 0\n",
        "  for i in range (n):\n",
        "    arctan += ((-1) ** i)*((x ** (2 * i + 1))/(2* i + 1))\n",
        "  return arctan\n",
        "\n",
        "if __name__ == \"__main__\":\n",
        "  x = float(input(\"Ingrese número entre -1 y 1 para x: \"))\n",
        "  n = 1\n",
        "  if x>1 or x<-1:\n",
        "    print(\"No es posible calcular el valor\")\n",
        "  else:\n",
        "    while True:\n",
        "      arctan = calcular_arctan(x,n)\n",
        "      margen_error = abs((numpy.arctan(x) - arctan) / (numpy.arctan(x))) * 100\n",
        "      n += 1\n",
        "      if margen_error < 0.1:\n",
        "        print(\"El valor de n debe ser \" + str(n) + \" para obtener un margen de error menor al 0.1%\")\n",
        "        break\n",
        "\n",
        "print(\"El valor aproximado es \" + str(arctan))\n",
        "print(\"El valor real es \" + str(numpy.arctan(x)))\n",
        "print(\"El margen de error es de \" + str(margen_error))"
      ],
      "metadata": {
        "id": "HAmsphZAk8G1"
      },
      "execution_count": null,
      "outputs": []
    }
  ]
}